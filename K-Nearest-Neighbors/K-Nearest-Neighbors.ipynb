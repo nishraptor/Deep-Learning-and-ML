{
 "cells": [
  {
   "cell_type": "code",
   "execution_count": 16,
   "metadata": {},
   "outputs": [],
   "source": [
    "%matplotlib inline\n",
    "import pandas as pd\n",
    "import numpy as np\n",
    "import matplotlib.pyplot as plt\n",
    "from sklearn.model_selection import train_test_split\n",
    "import math\n",
    "from collections import Counter\n"
   ]
  },
  {
   "cell_type": "code",
   "execution_count": 17,
   "metadata": {},
   "outputs": [
    {
     "data": {
      "text/html": [
       "<div>\n",
       "<style scoped>\n",
       "    .dataframe tbody tr th:only-of-type {\n",
       "        vertical-align: middle;\n",
       "    }\n",
       "\n",
       "    .dataframe tbody tr th {\n",
       "        vertical-align: top;\n",
       "    }\n",
       "\n",
       "    .dataframe thead th {\n",
       "        text-align: right;\n",
       "    }\n",
       "</style>\n",
       "<table border=\"1\" class=\"dataframe\">\n",
       "  <thead>\n",
       "    <tr style=\"text-align: right;\">\n",
       "      <th></th>\n",
       "      <th>sepal-length</th>\n",
       "      <th>sepal-width</th>\n",
       "      <th>petal-length</th>\n",
       "      <th>petal-width</th>\n",
       "      <th>type</th>\n",
       "    </tr>\n",
       "  </thead>\n",
       "  <tbody>\n",
       "    <tr>\n",
       "      <th>0</th>\n",
       "      <td>5.1</td>\n",
       "      <td>3.5</td>\n",
       "      <td>1.4</td>\n",
       "      <td>0.2</td>\n",
       "      <td>Iris-setosa</td>\n",
       "    </tr>\n",
       "    <tr>\n",
       "      <th>1</th>\n",
       "      <td>4.9</td>\n",
       "      <td>3.0</td>\n",
       "      <td>1.4</td>\n",
       "      <td>0.2</td>\n",
       "      <td>Iris-setosa</td>\n",
       "    </tr>\n",
       "    <tr>\n",
       "      <th>2</th>\n",
       "      <td>4.7</td>\n",
       "      <td>3.2</td>\n",
       "      <td>1.3</td>\n",
       "      <td>0.2</td>\n",
       "      <td>Iris-setosa</td>\n",
       "    </tr>\n",
       "    <tr>\n",
       "      <th>3</th>\n",
       "      <td>4.6</td>\n",
       "      <td>3.1</td>\n",
       "      <td>1.5</td>\n",
       "      <td>0.2</td>\n",
       "      <td>Iris-setosa</td>\n",
       "    </tr>\n",
       "    <tr>\n",
       "      <th>4</th>\n",
       "      <td>5.0</td>\n",
       "      <td>3.6</td>\n",
       "      <td>1.4</td>\n",
       "      <td>0.2</td>\n",
       "      <td>Iris-setosa</td>\n",
       "    </tr>\n",
       "  </tbody>\n",
       "</table>\n",
       "</div>"
      ],
      "text/plain": [
       "   sepal-length  sepal-width  petal-length  petal-width         type\n",
       "0           5.1          3.5           1.4          0.2  Iris-setosa\n",
       "1           4.9          3.0           1.4          0.2  Iris-setosa\n",
       "2           4.7          3.2           1.3          0.2  Iris-setosa\n",
       "3           4.6          3.1           1.5          0.2  Iris-setosa\n",
       "4           5.0          3.6           1.4          0.2  Iris-setosa"
      ]
     },
     "metadata": {},
     "output_type": "display_data"
    }
   ],
   "source": [
    "#Acquire and View the Data\n",
    "url = \"https://archive.ics.uci.edu/ml/machine-learning-databases/iris/iris.data\"\n",
    "\n",
    "df = pd.read_csv(url,header = None)\n",
    "\n",
    "df.columns = ['sepal-length','sepal-width','petal-length','petal-width','type']\n",
    "display(df.head())"
   ]
  },
  {
   "cell_type": "code",
   "execution_count": 18,
   "metadata": {},
   "outputs": [],
   "source": [
    "#Seperate the data randomly for testing\n",
    "\n",
    "train,test = train_test_split(df,shuffle = True,test_size=.2)"
   ]
  },
  {
   "cell_type": "code",
   "execution_count": 19,
   "metadata": {},
   "outputs": [],
   "source": [
    "#Create a distance function that generates a list of distances to each existing point\n",
    "\n",
    "def distance(testrow,data,k):\n",
    "    distance = {}\n",
    "    \n",
    "    #Create a dictionary of distances \n",
    "    for index,row in data.iterrows():\n",
    "        distance[index] =  math.sqrt((row['sepal-length'] - testrow['sepal-length'])**2 + (row['sepal-width'] - testrow['sepal-width'])**2 + (row['petal-length'] - testrow['petal-length'])**2 + (row['petal-width'] - testrow['petal-width'])**2)\n",
    "\n",
    "        \n",
    "    #Sort the dictionary by the values(distances) and select the first k elements  \n",
    "    sorted_dist = [(k, distance[k]) for k in sorted(distance, key=distance.get, reverse=False)]\n",
    "    sorted_dict = dict(sorted_dist[0:k])\n",
    "    \n",
    "\n",
    "    #Get the flower type of each nearest neighbor\n",
    "    flower_type = []\n",
    "    for key in sorted_dict:\n",
    "        flower_type.append(df.loc[key]['type'])\n",
    "     \n",
    "    #Get the frequencies of the different types of flowers\n",
    "    counter = Counter(flower_type)\n",
    "    freq_list = sorted(counter.values())\n",
    "  \n",
    "    #Return the String with the greatest frequency. If there is a tie, recursively decrease k until no such tie is present\n",
    "    if len(freq_list) == 1:\n",
    "        return counter.most_common()[0][0]\n",
    "    elif freq_list[0] == freq_list[1]:\n",
    "        return distance(testrow,data,k-1)\n",
    "    else:\n",
    "        return counter.most_common()[0][0]"
   ]
  },
  {
   "cell_type": "code",
   "execution_count": 20,
   "metadata": {},
   "outputs": [
    {
     "name": "stdout",
     "output_type": "stream",
     "text": [
      "Percent Accuracy of model made from scratch: \n",
      "100.0\n"
     ]
    }
   ],
   "source": [
    "predicted_vals = []\n",
    "for i in range(len(test)):\n",
    "    testrow = test.iloc[[i]]\n",
    "    dist = distance(testrow,train,5)\n",
    "    predicted_vals.append(dist)\n",
    "    \n",
    "#Get the percent accuracy\n",
    "percent = 0\n",
    "for idx,i in enumerate(predicted_vals):\n",
    "    if i == test['type'].iloc[idx]:\n",
    "        percent = percent + 1;\n",
    "      \n",
    "print('Percent Accuracy of model made from scratch: ')\n",
    "print(percent/len(test) * 100)\n"
   ]
  },
  {
   "cell_type": "code",
   "execution_count": null,
   "metadata": {},
   "outputs": [],
   "source": []
  },
  {
   "cell_type": "code",
   "execution_count": 21,
   "metadata": {},
   "outputs": [
    {
     "data": {
      "text/plain": [
       "KNeighborsClassifier(algorithm='auto', leaf_size=30, metric='minkowski',\n",
       "           metric_params=None, n_jobs=1, n_neighbors=5, p=2,\n",
       "           weights='uniform')"
      ]
     },
     "execution_count": 21,
     "metadata": {},
     "output_type": "execute_result"
    }
   ],
   "source": [
    "from sklearn.neighbors import KNeighborsClassifier\n",
    "knn = KNeighborsClassifier(n_neighbors=5)\n",
    "knn.fit(train.iloc[:,0:4], train['type'])\n",
    "\n"
   ]
  },
  {
   "cell_type": "code",
   "execution_count": 22,
   "metadata": {},
   "outputs": [
    {
     "name": "stdout",
     "output_type": "stream",
     "text": [
      "Percent accuracy of Sklearn Model: 1.0\n"
     ]
    }
   ],
   "source": [
    "pred = knn.score(test.iloc[:,0:4],test.iloc[:,4:])\n",
    "print('Percent accuracy of Sklearn Model: %s' %(pred))"
   ]
  },
  {
   "cell_type": "code",
   "execution_count": null,
   "metadata": {},
   "outputs": [],
   "source": [
    "#Here, we get a 100% fit, but it really depends on the random sample that is trained. More data is needed."
   ]
  }
 ],
 "metadata": {
  "kernelspec": {
   "display_name": "Python 3",
   "language": "python",
   "name": "python3"
  },
  "language_info": {
   "codemirror_mode": {
    "name": "ipython",
    "version": 3
   },
   "file_extension": ".py",
   "mimetype": "text/x-python",
   "name": "python",
   "nbconvert_exporter": "python",
   "pygments_lexer": "ipython3",
   "version": "3.6.4"
  }
 },
 "nbformat": 4,
 "nbformat_minor": 2
}
